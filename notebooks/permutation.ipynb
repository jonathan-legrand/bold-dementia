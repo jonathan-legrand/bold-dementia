{
 "cells": [
  {
   "cell_type": "code",
   "execution_count": 6,
   "metadata": {},
   "outputs": [],
   "source": [
    "from init_nb import init_notebook\n",
    "config = init_notebook()\n",
    "from pathlib import Path\n",
    "import random\n",
    "import numpy as np\n",
    "import pandas as pd\n",
    "import matplotlib.pyplot as plt\n",
    "import seaborn as sns\n",
    "\n",
    "from bold_dementia.utils.configuration import get_config\n",
    "from bold_dementia.utils.saving import save_run\n",
    "from bold_dementia.stats.univariate import make_fc_data, run_test, export_results, merge_configs\n",
    "from bold_dementia.connectivity import reshape_pvalues, plot_matrix, Atlas\n",
    "\n",
    "\n",
    "random.seed(config[\"seed\"])\n",
    "\n",
    "N = 100"
   ]
  },
  {
   "cell_type": "code",
   "execution_count": 7,
   "metadata": {},
   "outputs": [
    {
     "name": "stdout",
     "output_type": "stream",
     "text": [
      "{'NAME': 'ols-cenanom', 'RHS_FORMULA': 'AD + scale(current_scan_age) + SEX + NIVETUD + scale(`total intracranial`) + CEN_ANOM', 'GROUPS': None}\n",
      "   RSN02_RSN01  RSN03_RSN01  RSN03_RSN02  RSN04_RSN01  RSN04_RSN02  \\\n",
      "0     0.130525     0.217417    -0.190494     0.075858     0.156586   \n",
      "1     0.140742    -0.057584    -0.031611    -0.355143    -0.286021   \n",
      "2     0.174282     0.029205     0.185511     0.345416     0.137383   \n",
      "3     0.005840    -0.174280     0.252891     0.328150     0.122189   \n",
      "4     0.180687     0.035073     0.558452     0.196022    -0.002325   \n",
      "\n",
      "   RSN04_RSN03  RSN05_RSN01  RSN05_RSN02  RSN05_RSN03  RSN05_RSN04  ...  \\\n",
      "0     0.113624     0.116368     0.023231    -0.096788    -0.216254  ...   \n",
      "1    -0.098679     0.289175     0.427514    -0.006181    -0.197272  ...   \n",
      "2    -0.166671     0.239852     0.229611     0.071937    -0.128278  ...   \n",
      "3    -0.271702     0.200502     0.192088     0.116803    -0.158616  ...   \n",
      "4    -0.078938     0.190870     0.298480     0.145692    -0.141440  ...   \n",
      "\n",
      "   RSN33_RSN23  RSN33_RSN24  RSN33_RSN25  RSN33_RSN26  RSN33_RSN27  \\\n",
      "0     0.069287     0.198675     0.056983     0.083366     0.024641   \n",
      "1    -0.296714    -0.097838     0.095521    -0.048843    -0.177564   \n",
      "2    -0.161571     0.383877     0.434465    -0.209783    -0.202202   \n",
      "3     0.061967     0.110806     0.178840     0.015170    -0.232386   \n",
      "4     0.035962     0.055435     0.212171    -0.072156    -0.401110   \n",
      "\n",
      "   RSN33_RSN28  RSN33_RSN29  RSN33_RSN30  RSN33_RSN31  RSN33_RSN32  \n",
      "0    -0.027406    -0.127402     0.120346     0.064153     0.425854  \n",
      "1     0.165561    -0.256110    -0.075746     0.230126     0.371105  \n",
      "2    -0.135406     0.235098     0.150438    -0.042000     0.078375  \n",
      "3    -0.032480     0.353194     0.196078    -0.059908     0.247981  \n",
      "4    -0.071020     0.443523     0.313280    -0.062395     0.323333  \n",
      "\n",
      "[5 rows x 528 columns]\n",
      "Add intracranial volumes to phenotypes\n"
     ]
    }
   ],
   "source": [
    "maps_path = Path(\n",
    "    \"/bigdata/jlegrand/data/Memento/output/connectivity/atlas-GINNA_merged\"\n",
    ")\n",
    "model_specs_path = Path(\n",
    "    \"/homes_unix/jlegrand/AD-prediction/LM_specs/OLS_cenanom.yml\"\n",
    ")\n",
    "    \n",
    "maps_specs = get_config(maps_path / \"parameters.yml\")\n",
    "model_specs = get_config(model_specs_path)\n",
    "print(model_specs)\n",
    "\n",
    "df, edges, parameters = make_fc_data(maps_path, maps_specs, model_specs)\n"
   ]
  },
  {
   "cell_type": "code",
   "execution_count": 8,
   "metadata": {},
   "outputs": [
    {
     "name": "stdout",
     "output_type": "stream",
     "text": [
      "<Client: 'tcp://10.85.1.93:40739' processes=0 threads=0, memory=0 B>\n",
      "[########################################] | 100% Completed | 57.8s\u001b[2K\r"
     ]
    }
   ],
   "source": [
    "from dask_jobqueue import SLURMCluster\n",
    "from bold_dementia.stats.permutations import generate_null_dask\n",
    "from dask.distributed import Client, progress\n",
    "\n",
    "with SLURMCluster(\n",
    "    cores=1,\n",
    "    memory=\"1GB\",\n",
    "    walltime=\"00:05:00\",\n",
    "    log_directory=\"/homes_unix/jlegrand/poubs\"\n",
    ") as cluster:\n",
    "    cluster.scale(10)\n",
    "    client = Client(cluster)\n",
    "    permuted_slopes, permutation_scheme = generate_null_dask(\n",
    "        df, edges, parameters, client, N=50\n",
    "    )"
   ]
  },
  {
   "cell_type": "code",
   "execution_count": 8,
   "metadata": {},
   "outputs": [
    {
     "data": {
      "image/png": "[encoded data removed]",
      "text/plain": [
       "<Figure size 640x480 with 1 Axes>"
      ]
     },
     "metadata": {},
     "output_type": "display_data"
    }
   ],
   "source": [
    "\n",
    "cols = random.sample(edges, k=3)\n",
    "msk = permuted_slopes.edge.isin(cols)\n",
    "m = permuted_slopes[msk].melt(id_vars=\"edge\")\n",
    "sns.histplot(m, x=\"value\", hue=\"edge\", element=\"step\")\n",
    "plt.show()"
   ]
  },
  {
   "cell_type": "code",
   "execution_count": 30,
   "metadata": {},
   "outputs": [
    {
     "data": {
      "text/plain": [
       "PosixPath('/homes_unix/jlegrand/data/Memento/output/statresults/atlas-msdl_merged_ols-cenanom')"
      ]
     },
     "execution_count": 30,
     "metadata": {},
     "output_type": "execute_result"
    }
   ],
   "source": [
    "params = merge_configs(maps_specs, model_specs)\n",
    "save_run(\n",
    "    params,\n",
    "    lambda obj, path: obj.to_csv(path),\n",
    "    {\"null_distribution_interactive.csv\": permuted_slopes,},\n",
    "    dirkey=\"statresults\"\n",
    ")\n"
   ]
  }
 ],
 "metadata": {
  "kernelspec": {
   "display_name": "memento",
   "language": "python",
   "name": "python3"
  },
  "language_info": {
   "codemirror_mode": {
    "name": "ipython",
    "version": 3
   },
   "file_extension": ".py",
   "mimetype": "text/x-python",
   "name": "python",
   "nbconvert_exporter": "python",
   "pygments_lexer": "ipython3",
   "version": "3.11.7"
  }
 },
 "nbformat": 4,
 "nbformat_minor": 2
}
