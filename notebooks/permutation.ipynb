{
 "cells": [
  {
   "cell_type": "code",
   "execution_count": 17,
   "metadata": {},
   "outputs": [],
   "source": [
    "from init_nb import init_notebook\n",
    "config = init_notebook()\n",
    "from pathlib import Path\n",
    "import random\n",
    "import numpy as np\n",
    "import pandas as pd\n",
    "import matplotlib.pyplot as plt\n",
    "import seaborn as sns\n",
    "\n",
    "from bold_dementia.utils.configuration import get_config\n",
    "from bold_dementia.utils.saving import save_run\n",
    "from bold_dementia.stats.univariate import make_fc_data, run_test, export_results, merge_configs\n",
    "from bold_dementia.connectivity import reshape_pvalues, plot_matrix, Atlas\n",
    "\n",
    "\n",
    "random.seed(config[\"seed\"])\n",
    "\n",
    "N = 10"
   ]
  },
  {
   "cell_type": "code",
   "execution_count": 2,
   "metadata": {},
   "outputs": [
    {
     "name": "stdout",
     "output_type": "stream",
     "text": [
      "{'NAME': 'ols-cenanom', 'RHS_FORMULA': 'AD + scale(current_scan_age) + SEX + NIVETUD + scale(`total intracranial`) + CEN_ANOM', 'GROUPS': None}\n",
      "   R Aud_L Aud  Striate_L Aud  Striate_R Aud  L DMN_L Aud  L DMN_R Aud  \\\n",
      "0     0.498581      -0.118252      -0.058593     0.015841    -0.000683   \n",
      "1     0.479843      -0.286632      -0.244602    -0.258216     0.131136   \n",
      "2     0.849180       0.163169       0.126087     0.195107     0.147975   \n",
      "3     0.761959      -0.029705       0.036802    -0.168387    -0.019521   \n",
      "4     0.654926      -0.090044       0.055118    -0.023889    -0.020417   \n",
      "\n",
      "   L DMN_Striate  Med DMN_L Aud  Med DMN_R Aud  Med DMN_Striate  \\\n",
      "0      -0.036538      -0.068993       0.010222         0.106694   \n",
      "1      -0.119821      -0.131005      -0.188868         0.068698   \n",
      "2       0.392752       0.331446       0.274524         0.504498   \n",
      "3       0.330143       0.114906       0.244550         0.515841   \n",
      "4       0.205834       0.138110       0.172346         0.223546   \n",
      "\n",
      "   Med DMN_L DMN  ...  R Ant IPS_Broca  R Ant IPS_Sup Front S  \\\n",
      "0       0.364239  ...        -0.055425               0.191959   \n",
      "1       0.479122  ...        -0.109286              -0.166139   \n",
      "2       0.608716  ...        -0.158184              -0.171709   \n",
      "3       0.752434  ...         0.012702               0.069707   \n",
      "4       0.836730  ...        -0.162999              -0.011687   \n",
      "\n",
      "   R Ant IPS_R TPJ  R Ant IPS_R Pars Op  R Ant IPS_Cereb  R Ant IPS_Dors PCC  \\\n",
      "0         0.114503             0.037558         0.352562            0.153911   \n",
      "1         0.153001             0.034213        -0.018966            0.240497   \n",
      "2        -0.127149             0.020661        -0.314376            0.727658   \n",
      "3        -0.225166            -0.035209        -0.329754            0.629012   \n",
      "4        -0.077374            -0.050770        -0.424229            0.588485   \n",
      "\n",
      "   R Ant IPS_L Ins  R Ant IPS_Cing  R Ant IPS_R Ins  R Ant IPS_L Ant IPS  \n",
      "0         0.292661        0.045289         0.355759             0.262199  \n",
      "1         0.063331        0.214594         0.201272             0.655387  \n",
      "2         0.168074        0.471878         0.313974             0.850245  \n",
      "3         0.282083        0.444508         0.270661             0.769623  \n",
      "4        -0.163375        0.293242        -0.070204             0.847386  \n",
      "\n",
      "[5 rows x 741 columns]\n",
      "Add intracranial volumes to phenotypes\n",
      "                                           file_path  \\\n",
      "0  /georges/memento/BIDS/derivatives/fmriprep-23....   \n",
      "1  /georges/memento/BIDS/derivatives/fmriprep-23....   \n",
      "2  /georges/memento/BIDS/derivatives/fmriprep-23....   \n",
      "3  /georges/memento/BIDS/derivatives/fmriprep-23....   \n",
      "4  /georges/memento/BIDS/derivatives/fmriprep-23....   \n",
      "\n",
      "                                       file_basename file_tag file_type  \\\n",
      "0  sub-0001_ses-M000_task-rest_space-MNI152NLin6A...     bold    nii.gz   \n",
      "1  sub-0003_ses-M024_task-rest_space-MNI152NLin6A...     bold    nii.gz   \n",
      "2  sub-0004_ses-M024_task-rest_space-MNI152NLin6A...     bold    nii.gz   \n",
      "3  sub-0005_ses-M000_task-rest_space-MNI152NLin6A...     bold    nii.gz   \n",
      "4  sub-0007_ses-M048_task-rest_space-MNI152NLin6A...     bold    nii.gz   \n",
      "\n",
      "                                      file_fields  sub   ses  task  \\\n",
      "0  ['sub', 'ses', 'task', 'space', 'res', 'desc']    1  M000  rest   \n",
      "1  ['sub', 'ses', 'task', 'space', 'res', 'desc']    3  M024  rest   \n",
      "2  ['sub', 'ses', 'task', 'space', 'res', 'desc']    4  M024  rest   \n",
      "3  ['sub', 'ses', 'task', 'space', 'res', 'desc']    5  M000  rest   \n",
      "4  ['sub', 'ses', 'task', 'space', 'res', 'desc']    7  M048  rest   \n",
      "\n",
      "             space  res  ... ctx-rh-rostralanteriorcingulate  \\\n",
      "0  MNI152NLin6Asym    2  ...                        2377.715   \n",
      "1  MNI152NLin6Asym    2  ...                        2422.587   \n",
      "2  MNI152NLin6Asym    2  ...                        1945.710   \n",
      "3  MNI152NLin6Asym    2  ...                        2460.978   \n",
      "4  MNI152NLin6Asym    2  ...                        3162.807   \n",
      "\n",
      "  ctx-rh-rostralmiddlefrontal ctx-rh-superiorfrontal ctx-rh-superiorparietal  \\\n",
      "0                   12880.185              18957.723               11516.980   \n",
      "1                   10883.573              17231.830               12317.412   \n",
      "2                   11325.909              13918.222               11039.136   \n",
      "3                   13697.664              21015.988               11350.795   \n",
      "4                   12711.142              18753.885               12855.085   \n",
      "\n",
      "  ctx-rh-superiortemporal  ctx-rh-supramarginal ctx-rh-frontalpole  \\\n",
      "0                9843.886              8695.834           2150.818   \n",
      "1                8962.429              9481.360           2561.695   \n",
      "2                8042.686              7546.360           2013.034   \n",
      "3               10741.536              9392.994           2138.466   \n",
      "4               11612.729              9573.803           2258.599   \n",
      "\n",
      "  ctx-rh-temporalpole ctx-rh-transversetemporal  ctx-rh-insula  \n",
      "0            3018.006                  1879.077       6939.233  \n",
      "1            3412.613                  2393.585       6149.186  \n",
      "2            3252.447                  1741.358       5859.886  \n",
      "3            3397.442                  1594.786       7119.935  \n",
      "4            4067.914                  2020.030       8539.038  \n",
      "\n",
      "[5 rows x 873 columns]\n"
     ]
    }
   ],
   "source": [
    "maps_path = Path(\n",
    "    \"/bigdata/jlegrand/data/Memento/output/connectivity/atlas-msdl_merged\"\n",
    ")\n",
    "model_specs_path = Path(\n",
    "    \"/homes_unix/jlegrand/AD-prediction/LM_specs/OLS_cenanom.yml\"\n",
    ")\n",
    "    \n",
    "maps_specs = get_config(maps_path / \"parameters.yml\")\n",
    "model_specs = get_config(model_specs_path)\n",
    "print(model_specs)\n",
    "\n",
    "df, edges, parameters = make_fc_data(maps_path, maps_specs, model_specs)\n",
    "print(df.head())\n"
   ]
  },
  {
   "cell_type": "code",
   "execution_count": 4,
   "metadata": {},
   "outputs": [],
   "source": [
    "idx_range = list(range(len(df)))\n",
    "permutation_scheme = [\n",
    "    random.sample(idx_range, k=len(idx_range)) for _ in range(N)\n",
    "]"
   ]
  },
  {
   "cell_type": "code",
   "execution_count": 5,
   "metadata": {},
   "outputs": [
    {
     "name": "stdout",
     "output_type": "stream",
     "text": [
      "Testing on 1310 subjects\n",
      "89.0 AD\n",
      "1221 controls\n"
     ]
    },
    {
     "name": "stderr",
     "output_type": "stream",
     "text": [
      "[Parallel(n_jobs=8)]: Using backend LokyBackend with 8 concurrent workers.\n",
      "[Parallel(n_jobs=8)]: Done  25 tasks      | elapsed:    1.8s\n",
      "[Parallel(n_jobs=8)]: Done 248 tasks      | elapsed:    3.5s\n",
      "[Parallel(n_jobs=8)]: Done 741 out of 741 | elapsed:    5.4s finished\n"
     ]
    },
    {
     "name": "stdout",
     "output_type": "stream",
     "text": [
      "Testing on 1310 subjects\n",
      "89.0 AD\n",
      "1221 controls\n"
     ]
    },
    {
     "name": "stderr",
     "output_type": "stream",
     "text": [
      "[Parallel(n_jobs=8)]: Using backend LokyBackend with 8 concurrent workers.\n",
      "[Parallel(n_jobs=8)]: Done  34 tasks      | elapsed:    0.3s\n",
      "[Parallel(n_jobs=8)]: Done 504 tasks      | elapsed:    2.2s\n",
      "[Parallel(n_jobs=8)]: Done 741 out of 741 | elapsed:    3.3s finished\n"
     ]
    },
    {
     "name": "stdout",
     "output_type": "stream",
     "text": [
      "Testing on 1310 subjects\n",
      "89.0 AD\n",
      "1221 controls\n"
     ]
    },
    {
     "name": "stderr",
     "output_type": "stream",
     "text": [
      "[Parallel(n_jobs=8)]: Using backend LokyBackend with 8 concurrent workers.\n",
      "[Parallel(n_jobs=8)]: Done  34 tasks      | elapsed:    0.3s\n",
      "[Parallel(n_jobs=8)]: Done 504 tasks      | elapsed:    2.3s\n",
      "[Parallel(n_jobs=8)]: Done 741 out of 741 | elapsed:    3.2s finished\n"
     ]
    },
    {
     "name": "stdout",
     "output_type": "stream",
     "text": [
      "Testing on 1310 subjects\n",
      "89.0 AD\n",
      "1221 controls\n"
     ]
    },
    {
     "name": "stderr",
     "output_type": "stream",
     "text": [
      "[Parallel(n_jobs=8)]: Using backend LokyBackend with 8 concurrent workers.\n",
      "[Parallel(n_jobs=8)]: Done  34 tasks      | elapsed:    0.3s\n",
      "[Parallel(n_jobs=8)]: Done 504 tasks      | elapsed:    2.3s\n",
      "[Parallel(n_jobs=8)]: Done 741 out of 741 | elapsed:    3.3s finished\n"
     ]
    },
    {
     "name": "stdout",
     "output_type": "stream",
     "text": [
      "Testing on 1310 subjects\n",
      "89.0 AD\n",
      "1221 controls\n"
     ]
    },
    {
     "name": "stderr",
     "output_type": "stream",
     "text": [
      "[Parallel(n_jobs=8)]: Using backend LokyBackend with 8 concurrent workers.\n",
      "[Parallel(n_jobs=8)]: Done  34 tasks      | elapsed:    0.3s\n",
      "[Parallel(n_jobs=8)]: Done 504 tasks      | elapsed:    2.2s\n",
      "[Parallel(n_jobs=8)]: Done 741 out of 741 | elapsed:    3.1s finished\n"
     ]
    },
    {
     "name": "stdout",
     "output_type": "stream",
     "text": [
      "Testing on 1310 subjects\n",
      "89.0 AD\n",
      "1221 controls\n"
     ]
    },
    {
     "name": "stderr",
     "output_type": "stream",
     "text": [
      "[Parallel(n_jobs=8)]: Using backend LokyBackend with 8 concurrent workers.\n",
      "[Parallel(n_jobs=8)]: Done  34 tasks      | elapsed:    0.3s\n",
      "[Parallel(n_jobs=8)]: Done 504 tasks      | elapsed:    2.1s\n",
      "[Parallel(n_jobs=8)]: Done 741 out of 741 | elapsed:    3.1s finished\n"
     ]
    },
    {
     "name": "stdout",
     "output_type": "stream",
     "text": [
      "Testing on 1310 subjects\n",
      "89.0 AD\n",
      "1221 controls\n"
     ]
    },
    {
     "name": "stderr",
     "output_type": "stream",
     "text": [
      "[Parallel(n_jobs=8)]: Using backend LokyBackend with 8 concurrent workers.\n",
      "[Parallel(n_jobs=8)]: Done  34 tasks      | elapsed:    0.3s\n",
      "[Parallel(n_jobs=8)]: Done 504 tasks      | elapsed:    2.3s\n",
      "[Parallel(n_jobs=8)]: Done 741 out of 741 | elapsed:    3.3s finished\n"
     ]
    },
    {
     "name": "stdout",
     "output_type": "stream",
     "text": [
      "Testing on 1310 subjects\n",
      "89.0 AD\n",
      "1221 controls\n"
     ]
    },
    {
     "name": "stderr",
     "output_type": "stream",
     "text": [
      "[Parallel(n_jobs=8)]: Using backend LokyBackend with 8 concurrent workers.\n",
      "[Parallel(n_jobs=8)]: Done  34 tasks      | elapsed:    0.4s\n",
      "[Parallel(n_jobs=8)]: Done 504 tasks      | elapsed:    2.5s\n",
      "[Parallel(n_jobs=8)]: Done 741 out of 741 | elapsed:    3.5s finished\n"
     ]
    },
    {
     "name": "stdout",
     "output_type": "stream",
     "text": [
      "Testing on 1310 subjects\n",
      "89.0 AD\n",
      "1221 controls\n"
     ]
    },
    {
     "name": "stderr",
     "output_type": "stream",
     "text": [
      "[Parallel(n_jobs=8)]: Using backend LokyBackend with 8 concurrent workers.\n",
      "[Parallel(n_jobs=8)]: Done  34 tasks      | elapsed:    0.3s\n",
      "[Parallel(n_jobs=8)]: Done 504 tasks      | elapsed:    2.2s\n",
      "[Parallel(n_jobs=8)]: Done 741 out of 741 | elapsed:    3.1s finished\n"
     ]
    },
    {
     "name": "stdout",
     "output_type": "stream",
     "text": [
      "Testing on 1310 subjects\n",
      "89.0 AD\n",
      "1221 controls\n"
     ]
    },
    {
     "name": "stderr",
     "output_type": "stream",
     "text": [
      "[Parallel(n_jobs=8)]: Using backend LokyBackend with 8 concurrent workers.\n",
      "[Parallel(n_jobs=8)]: Done  34 tasks      | elapsed:    0.3s\n",
      "[Parallel(n_jobs=8)]: Done 504 tasks      | elapsed:    2.2s\n",
      "[Parallel(n_jobs=8)]: Done 741 out of 741 | elapsed:    3.1s finished\n"
     ]
    },
    {
     "name": "stdout",
     "output_type": "stream",
     "text": [
      "Testing on 1310 subjects\n",
      "89.0 AD\n",
      "1221 controls\n"
     ]
    },
    {
     "name": "stderr",
     "output_type": "stream",
     "text": [
      "[Parallel(n_jobs=8)]: Using backend LokyBackend with 8 concurrent workers.\n",
      "[Parallel(n_jobs=8)]: Done  34 tasks      | elapsed:    0.2s\n",
      "[Parallel(n_jobs=8)]: Done 504 tasks      | elapsed:    2.4s\n",
      "[Parallel(n_jobs=8)]: Done 741 out of 741 | elapsed:    3.3s finished\n"
     ]
    },
    {
     "data": {
      "image/png": "[encoded data removed]",
      "text/plain": [
       "<Figure size 640x480 with 1 Axes>"
      ]
     },
     "metadata": {},
     "output_type": "display_data"
    }
   ],
   "source": [
    "permuted_slopes = []\n",
    "\n",
    "for permutation in permutation_scheme:\n",
    "    permuted_target = df.loc[permutation, \"AD\"].reset_index(drop=True)\n",
    "    permuted_df = df.copy()\n",
    "    permuted_df[\"AD\"] = permuted_target\n",
    "    results = run_test(permuted_df, edges, parameters)\n",
    "    stats, pvalues = zip(*results)\n",
    "    permuted_slopes.append(stats)\n",
    "    plt.hist(stats, histtype=\"step\", color=\"black\")\n",
    "\n",
    "\n",
    "permuted_target = df.loc[list(range(len(df))), \"AD\"].reset_index(drop=True)\n",
    "permuted_df = df.copy()\n",
    "permuted_df[\"AD\"] = permuted_target\n",
    "results = run_test(permuted_df, edges, parameters)\n",
    "stats, pvalues = zip(*results)\n",
    "plt.hist(stats, histtype=\"step\", color=\"red\")\n",
    "\n",
    "plt.xlabel(\"Slope for AD\")\n",
    "plt.show()"
   ]
  },
  {
   "cell_type": "code",
   "execution_count": 6,
   "metadata": {},
   "outputs": [],
   "source": [
    "permuted_slopes = pd.DataFrame(np.stack(permuted_slopes, axis=1), columns=[f\"p_{i}\" for i in range(N)])\n",
    "permuted_slopes[\"edge\"] = edges"
   ]
  },
  {
   "cell_type": "code",
   "execution_count": 12,
   "metadata": {},
   "outputs": [
    {
     "data": {
      "image/png": "[encoded data removed]",
      "text/plain": [
       "<Figure size 640x480 with 1 Axes>"
      ]
     },
     "metadata": {},
     "output_type": "display_data"
    }
   ],
   "source": [
    "\n",
    "cols = random.sample(edges, k=3)\n",
    "msk = permuted_slopes.edge.isin(cols)\n",
    "m = permuted_slopes[msk].melt(id_vars=\"edge\")\n",
    "sns.histplot(m, x=\"value\", hue=\"edge\", element=\"step\")\n",
    "plt.show()"
   ]
  },
  {
   "cell_type": "code",
   "execution_count": 22,
   "metadata": {},
   "outputs": [
    {
     "data": {
      "text/plain": [
       "PosixPath('/homes_unix/jlegrand/data/Memento/output/statresults/atlas-msdl_merged_ols-cenanom')"
      ]
     },
     "execution_count": 22,
     "metadata": {},
     "output_type": "execute_result"
    }
   ],
   "source": [
    "params = merge_configs(maps_specs, model_specs)\n",
    "save_run(\n",
    "    params,\n",
    "    lambda obj, path: obj.to_csv(path),\n",
    "    {\"null_distribution.csv\": permuted_slopes,},\n",
    "    dirkey=\"statresults\"\n",
    ")\n"
   ]
  }
 ],
 "metadata": {
  "kernelspec": {
   "display_name": "memento",
   "language": "python",
   "name": "python3"
  },
  "language_info": {
   "codemirror_mode": {
    "name": "ipython",
    "version": 3
   },
   "file_extension": ".py",
   "mimetype": "text/x-python",
   "name": "python",
   "nbconvert_exporter": "python",
   "pygments_lexer": "ipython3",
   "version": "3.11.7"
  }
 },
 "nbformat": 4,
 "nbformat_minor": 2
}
