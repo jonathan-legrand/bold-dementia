{
 "cells": [
  {
   "cell_type": "markdown",
   "metadata": {},
   "source": [
    "We want to compute intra and inter network connectivty from covariance matrices, which should have been computed in `compare_maps.ipynb`"
   ]
  },
  {
   "cell_type": "code",
   "execution_count": 1,
   "metadata": {},
   "outputs": [],
   "source": [
    "from init_nb import init_notebook\n",
    "config = init_notebook()\n",
    "\n",
    "from pathlib import Path\n",
    "import joblib\n",
    "\n",
    "from bold_dementia.connectivity.matrices import plot_matrices\n",
    "\n",
    "ATLAS = \"schaeffer\"\n",
    "matrices_path = Path(\n",
    "    f\"{config['data_dir']}/output/connectivity/atlas-{ATLAS}_strategy-high_pass-motion-wm_csf_motion-full_wm_csf-basic\"\n",
    ")"
   ]
  },
  {
   "cell_type": "code",
   "execution_count": 3,
   "metadata": {},
   "outputs": [],
   "source": [
    "AD_matrices = joblib.load(matrices_path / \"AD.joblib\")\n",
    "control_matrices = joblib.load(matrices_path / \"AD.joblib\")"
   ]
  }
 ],
 "metadata": {
  "kernelspec": {
   "display_name": "memento",
   "language": "python",
   "name": "python3"
  },
  "language_info": {
   "codemirror_mode": {
    "name": "ipython",
    "version": 3
   },
   "file_extension": ".py",
   "mimetype": "text/x-python",
   "name": "python",
   "nbconvert_exporter": "python",
   "pygments_lexer": "ipython3",
   "version": "3.11.7"
  }
 },
 "nbformat": 4,
 "nbformat_minor": 2
}
